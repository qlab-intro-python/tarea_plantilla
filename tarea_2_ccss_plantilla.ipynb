{
 "cells": [
  {
   "cell_type": "markdown",
   "metadata": {},
   "source": [
    "# **Tarea Nº 2**"
   ]
  },
  {
   "cell_type": "markdown",
   "metadata": {},
   "source": [
    "Curso:          Fundamentos de Programación en Python para las CCSS y la Gestión Pública\n",
    "\n",
    "Profesor:       Víctor Fuentes Campos     "
   ]
  },
  {
   "cell_type": "markdown",
   "metadata": {},
   "source": [
    "- Fecha y hora de entrega: Lunes 9 de diciembre, 11:59pm\n",
    "- Agregue los nombres de las personas con las que discutió esta tarea: ____ Armando Paredes ______\n",
    "- Envíe su tarea haciendo el `push` de su código a su repo en GitHub Classroom "
   ]
  },
  {
   "cell_type": "markdown",
   "metadata": {},
   "source": [
    "## **Vuelos, aerolíneas y aeropuertos al detalle**"
   ]
  },
  {
   "cell_type": "markdown",
   "metadata": {},
   "source": [
    "1. Importa el conjunto de datos `flights.csv`. Encuentra todos los vuelos que:\n",
    "\n",
    "    a. Tuvieron un retraso de llegada de tres horas o más.\n",
    "\n",
    "    b. Volaron a Houston (IAH o HOU).\n",
    "\n",
    "    c. Fueron operados por United, American o Southwest.\n",
    "\n",
    "    d. Partieron en primavera (marzo, abril y junio)."
   ]
  },
  {
   "cell_type": "code",
   "execution_count": null,
   "metadata": {},
   "outputs": [],
   "source": [
    "# Solución"
   ]
  },
  {
   "cell_type": "markdown",
   "metadata": {},
   "source": [
    "2. ¿Cuántos vuelos tienen un valor faltante en la variable `dep_time`? ¿Qué otras variables tienen valores faltantes? ¿Qué podrían representar estas filas?"
   ]
  },
  {
   "cell_type": "code",
   "execution_count": null,
   "metadata": {},
   "outputs": [],
   "source": [
    "# Solución"
   ]
  },
  {
   "cell_type": "markdown",
   "metadata": {},
   "source": [
    "3. Ordena los vuelos para encontrar los vuelos con mayor retraso en el tiempo de llegada."
   ]
  },
  {
   "cell_type": "code",
   "execution_count": null,
   "metadata": {},
   "outputs": [],
   "source": [
    "# Solución"
   ]
  },
  {
   "cell_type": "markdown",
   "metadata": {},
   "source": [
    "4. Encuentra los 5 vuelos que salieron más temprano en relación con su hora de salida programada. Muestra únicamente el código del avión (`tail_num`), la fecha y el número de minutos que salieron temprano."
   ]
  },
  {
   "cell_type": "code",
   "execution_count": null,
   "metadata": {},
   "outputs": [],
   "source": [
    "# Solución"
   ]
  },
  {
   "cell_type": "markdown",
   "metadata": {},
   "source": [
    "5. Actualmente, las variables `dep_time` y `arr_time` son convenientes para observar, pero difíciles de usar para cálculos porque no son números realmente continuos. Conviértelos en el número de minutos desde la medianoche en nuevas variables llamadas `arr_time_min` y `dep_time_min`."
   ]
  },
  {
   "cell_type": "code",
   "execution_count": null,
   "metadata": {},
   "outputs": [],
   "source": [
    "# Solución"
   ]
  },
  {
   "cell_type": "markdown",
   "metadata": {},
   "source": [
    "6. Esperamos que `air_time` y la diferencia `arr_time_min` - `dep_time_min` sean iguales, pero no lo son. ¿Por qué no? Identifica un problema importante con los datos y uno más sutil."
   ]
  },
  {
   "cell_type": "code",
   "execution_count": null,
   "metadata": {},
   "outputs": [],
   "source": [
    "# Solución"
   ]
  },
  {
   "cell_type": "markdown",
   "metadata": {},
   "source": [
    "7. Encuentra los 5 vuelos con mayor retraso."
   ]
  },
  {
   "cell_type": "code",
   "execution_count": null,
   "metadata": {},
   "outputs": [],
   "source": [
    "# Solución"
   ]
  },
  {
   "cell_type": "markdown",
   "metadata": {},
   "source": [
    "8. Calcula los retrasos promedio por destino para vuelos que se originan en Nueva York (NYC). Crea una variable que clasifique los destinos de peor a mejor, donde 1 representa el peor lugar en el ranking.\n",
    "\n",
    "\n",
    "\n",
    "\n",
    "\n"
   ]
  },
  {
   "cell_type": "code",
   "execution_count": null,
   "metadata": {},
   "outputs": [],
   "source": [
    "# Solución"
   ]
  },
  {
   "cell_type": "markdown",
   "metadata": {},
   "source": [
    "9. Calcula la demora promedio por aerolínea"
   ]
  },
  {
   "cell_type": "code",
   "execution_count": null,
   "metadata": {},
   "outputs": [],
   "source": [
    "# Solución"
   ]
  },
  {
   "cell_type": "markdown",
   "metadata": {},
   "source": [
    "10. El promedio del retraso en la llegada puede no ser la mejor métrica. Enuncie al menos 3 formas adicionales de evaluar las características típicas de los retrasos de un grupo de vuelos."
   ]
  },
  {
   "cell_type": "code",
   "execution_count": null,
   "metadata": {},
   "outputs": [],
   "source": [
    "# Solución"
   ]
  },
  {
   "cell_type": "markdown",
   "metadata": {},
   "source": [
    "## **Pobreza y vulnerabilidad**"
   ]
  },
  {
   "cell_type": "markdown",
   "metadata": {},
   "source": [
    "Siguiendo el ejericio de clase, descargue los módulo Sumaria de la Enaho para los años 2019 y 2023. Para ello, utilice la página de [microdatos del INEI](https://proyectos.inei.gob.pe/microdatos/).\n",
    "\n",
    ">Ojo: debe utilizar la encuesta `ENAHO Metología ACTUALIZADA` del tipo `Condiciones de Vida y Pobreza - ENAHO` y período `Anual - (Ene-Dic)`"
   ]
  },
  {
   "cell_type": "markdown",
   "metadata": {},
   "source": [
    "1. ¿Cuántos hogares fueron encuestados en 2023? ¿Y en 2019? ¿Cuál es la población estimada para dichos años?\n",
    "\n",
    "> Para validar (parcial o totalmente) su respuesta, revise la diapositiva 2 de la [Presentación del Informe de Pobreza 2023](https://cdn.www.gob.pe/uploads/document/file/6452591/5558432-inei-chief-presentation.pdf)"
   ]
  },
  {
   "cell_type": "code",
   "execution_count": null,
   "metadata": {},
   "outputs": [],
   "source": [
    "# Solución"
   ]
  },
  {
   "cell_type": "markdown",
   "metadata": {},
   "source": [
    "2. ¿Cuántos pobres (extremos y no extremos) se alcanzaron en 2019 y en 2023? ¿En cuánto se incrementó la pobreza en términos absolutos y relativos?\n",
    "\n",
    "\n",
    "> Para validar (parcial o totalmente) su respuesta, revise la diapositiva 12 de la [Presentación del Informe de Pobreza 2023](https://cdn.www.gob.pe/uploads/document/file/6452591/5558432-inei-chief-presentation.pdf)"
   ]
  },
  {
   "cell_type": "code",
   "execution_count": null,
   "metadata": {},
   "outputs": [],
   "source": [
    "# Solución"
   ]
  },
  {
   "cell_type": "markdown",
   "metadata": {},
   "source": [
    "3. ¿Cuántos pobres extremos se alcanzaron en 2019 y en 2023? ¿En cuánto se incrementó la pobreza exterma en términos absolutos y relativos?\n",
    "\n",
    "\n",
    "> Para validar (parcial o totalmente) su respuesta, revise la diapositiva 15 de la [Presentación del Informe de Pobreza 2023](https://cdn.www.gob.pe/uploads/document/file/6452591/5558432-inei-chief-presentation.pdf)"
   ]
  },
  {
   "cell_type": "code",
   "execution_count": null,
   "metadata": {},
   "outputs": [],
   "source": [
    "# Solución"
   ]
  },
  {
   "cell_type": "markdown",
   "metadata": {},
   "source": [
    "4. ¿Cuál es el tamaño de la población bajo vulnerabilidad 2023 en términos relativos? ¿Y en 2019? ¿Se incrementó,mantuvo o redujo?\n",
    "\n",
    "\n",
    "> Para validar (parcial o totalmente) su respuesta, revise la diapositiva 8 de la [Presentación del Informe de Pobreza 2023](https://cdn.www.gob.pe/uploads/document/file/6452591/5558432-inei-chief-presentation.pdf)"
   ]
  },
  {
   "cell_type": "code",
   "execution_count": null,
   "metadata": {},
   "outputs": [],
   "source": [
    "# Solución"
   ]
  },
  {
   "cell_type": "markdown",
   "metadata": {},
   "source": [
    "5. Opcional 1: ¿Cuál es el tamaño de la pobreza (extrema y no extrema) en Lima Metropolitana en 2023? Calcule en términos absolutos y relativos. ¿Cómo cambian sus cifras versus los datos de 2019?\n",
    "\n",
    "> Para validar (parcial o totalmente) su respuesta, revise la diapositiva 14 de la [Presentación del Informe de Pobreza 2023](https://cdn.www.gob.pe/uploads/document/file/6452591/5558432-inei-chief-presentation.pdf)"
   ]
  },
  {
   "cell_type": "code",
   "execution_count": null,
   "metadata": {},
   "outputs": [],
   "source": [
    "# Solución"
   ]
  },
  {
   "cell_type": "markdown",
   "metadata": {},
   "source": [
    "6. Opcional 2: A partir de la pregunta previa, revise sus cálculos por regiones. ¿Dónde subió/bajó más la pobreza?\n",
    "\n",
    "> Para validar (parcial o totalmente) su respuesta, revise la diapositiva 14 de la [Presentación del Informe de Pobreza 2023](https://cdn.www.gob.pe/uploads/document/file/6452591/5558432-inei-chief-presentation.pdf)"
   ]
  },
  {
   "cell_type": "code",
   "execution_count": null,
   "metadata": {},
   "outputs": [],
   "source": [
    "# Solución"
   ]
  }
 ],
 "metadata": {
  "hide_input": false,
  "kernelspec": {
   "display_name": "Python 3 (ipykernel)",
   "language": "python",
   "name": "python3"
  },
  "language_info": {
   "codemirror_mode": {
    "name": "ipython",
    "version": 3
   },
   "file_extension": ".py",
   "mimetype": "text/x-python",
   "name": "python",
   "nbconvert_exporter": "python",
   "pygments_lexer": "ipython3",
   "version": "3.11.5"
  },
  "toc": {
   "base_numbering": 1,
   "nav_menu": {},
   "number_sections": true,
   "sideBar": true,
   "skip_h1_title": false,
   "title_cell": "Table of Contents",
   "title_sidebar": "Contents",
   "toc_cell": false,
   "toc_position": {},
   "toc_section_display": true,
   "toc_window_display": false
  }
 },
 "nbformat": 4,
 "nbformat_minor": 4
}
