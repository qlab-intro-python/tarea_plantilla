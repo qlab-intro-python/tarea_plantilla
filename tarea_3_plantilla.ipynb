{
 "cells": [
  {
   "cell_type": "markdown",
   "metadata": {},
   "source": [
    "# **Tarea Nº 3**"
   ]
  },
  {
   "cell_type": "markdown",
   "metadata": {},
   "source": [
    "- Fecha y hora de entrega: Jueves 9 de enero, 11:59pm\n",
    "- Agregue los nombres de las personas con las que discutió esta tarea: ____ Armando Paredes ______\n",
    "- Envíe su tarea haciendo el `push` de su código a su repo en GitHub Classroom: "
   ]
  },
  {
   "cell_type": "markdown",
   "metadata": {},
   "source": [
    "# 1. Las fáciles"
   ]
  },
  {
   "cell_type": "markdown",
   "metadata": {},
   "source": [
    "a. Calcula el `monto_final` de una compra al deducir el `descuento` del `monto_inicial`. Considera que `monto_inicial` es el total de una compra en dólares. Si el total es mayor a 50 dólares, ofrece un descuento del 10%. Si adicionalmente es el cliente `es_miembro`, ofrece un descuento adicional del 5%.\n",
    "\n",
    "Imprima el `monto_final`, `monto_inicial`, `descuento` y la condición de membresía (`es_miembro`) para cada caso. Puede usar, por ejemplo:\n",
    "\n",
    "```python\n",
    "print(f\"Total inicial: ${monto_inicial}, Es miembro: {es miembro}, Descuento: ${descuento}, monto_final: ${total_final:.2f}\")\n",
    "```"
   ]
  },
  {
   "cell_type": "code",
   "execution_count": 1,
   "metadata": {},
   "outputs": [],
   "source": [
    "# starter code\n",
    "import numpy as np\n",
    "np.random.seed(12345)\n",
    "\n",
    "# datos de un cliente\n",
    "total_compra = np.random.randint(1, 101)\n",
    "es_miembro = np.random.choice([0, 1])  # 0 no es miembro, 1 es miembro"
   ]
  },
  {
   "cell_type": "code",
   "execution_count": null,
   "metadata": {},
   "outputs": [],
   "source": [
    "# Introducir respuesta en esta celda. Solo se corregirá esta celda."
   ]
  },
  {
   "cell_type": "markdown",
   "metadata": {},
   "source": [
    "b. Modifica el código previo (y utiliza un `for loop`) para evaluar el sistema de descuentos antes descritos para 100,000 clientes. No olvides imprimir el `monto_final`, `monto_inicial`, `descuento` y la condición de membresía (`es_miembro`) para cada caso"
   ]
  },
  {
   "cell_type": "code",
   "execution_count": 2,
   "metadata": {},
   "outputs": [],
   "source": [
    "# starter code\n",
    "np.random.seed(12345)\n",
    "\n",
    "# Datos para 1000 clientes\n",
    "totales_compra = np.random.randint(1, 101, size=100000)  # Totales de compra entre $1 y $100\n",
    "miembros = np.random.choice([0, 1], size=100000)  # Estado de membresía: 0 no es miembro, 1 es miembro"
   ]
  },
  {
   "cell_type": "code",
   "execution_count": null,
   "metadata": {},
   "outputs": [],
   "source": [
    "# Introducir respuesta en esta celda. Solo se corregirá esta celda."
   ]
  },
  {
   "cell_type": "markdown",
   "metadata": {},
   "source": [
    "c. Escribe una función llamada `calcular_descuento` que reciba dos parámetros: `total_compra` y `es_miembro`. Usa esta función para procesar el conjunto de 100,000 datos de clientes creados en el ejercicio anterior, que incluyen el total de la compra (`totales_compra`) y si son miembros (`miembros`). No olvides imprimir el `monto_final`, `monto_inicial`, `descuento` y la condición de membresía (`es_miembro`) para cada caso"
   ]
  },
  {
   "cell_type": "code",
   "execution_count": null,
   "metadata": {},
   "outputs": [],
   "source": [
    "# Introducir respuesta en esta celda. Solo se corregirá esta celda."
   ]
  },
  {
   "cell_type": "markdown",
   "metadata": {},
   "source": [
    "d. Al correr una celda de código, al costado del \"check verde\" se especifica el tiempo de procesamiento. ¿Qué tanto más rápido fue el procesamiento de su código en la pregunta c que en la pregunta b? Obtenga el cociente de dividir dichos tiempos. Ojo: puede introducir los datos de manera manual, pero deben coincidir con los resultados antes obtenidos"
   ]
  },
  {
   "cell_type": "code",
   "execution_count": null,
   "metadata": {},
   "outputs": [],
   "source": [
    "# Introducir respuesta en esta celda. Solo se corregirá esta celda."
   ]
  },
  {
   "cell_type": "markdown",
   "metadata": {},
   "source": [
    "# 2. La pregunta financiera"
   ]
  },
  {
   "cell_type": "markdown",
   "metadata": {},
   "source": [
    "Objetivo: Simular la inversión de un activo financiero con un retorno variable y evaluar el rendimiento después de un número de periodos\n",
    "\n",
    "- Configuración Inicial:\n",
    "  - Definir una inversión inicial, por ejemplo, 1,000 dólares.\n",
    "  - Definir el número de periodos de inversión (por ejemplo, 10 años).\n",
    "\n",
    "- Simulación de Rendimiento:\n",
    "  - En cada periodo, el rendimiento del activo debe ser simulado como un cambio porcentual aleatorio del -5% al 5% (para simplificar, se puede considerar una distribución uniforme).\n",
    "  - Para ello, por ejemplo, puede definir la variable `cambio` con el siguiente código en Python\n",
    "\n",
    "    ```python\n",
    "    cambio = random.uniform(-0.05, 0.05)\n",
    "    ```\n",
    "  \n",
    "- Interacción con el Usuario:\n",
    "  - Solicitar al usuario que ingrese el número de simulaciones a realizar (por ejemplo, 100 simulaciones).\n",
    "  - Verificar que el número de simulaciones sea un entero válido. Si no, solicitar la entrada nuevamente.\n",
    "\n",
    "- Cálculo del Rendimiento Final:\n",
    "  - Para cada simulación, calcular el valor final de la inversión después de todos los periodos.\n",
    "  - Almacenar cada resultado final en una lista.\n",
    "\n",
    "- Resumen de Resultados:\n",
    "  - Calcular y mostrar el promedio de los valores finales de todas las simulaciones.\n",
    "  - Determinar y mostrar el mínimo y máximo valor alcanzado entre todas las simulaciones.\n",
    "\n",
    "- Estructuras de Control Utilizadas:\n",
    "  - Utilizar un bucle `for` para iterar a través de los periodos y las simulaciones.\n",
    "  - `if`, `elif`, y `else` para manejar errores de entrada y condiciones de simulación.\n",
    "  - Operadores lógicos para validar entradas.\n",
    "  - Posiblemente `try` y `except` para manejar excepciones si se introduce un dato no numérico (avanzado)."
   ]
  },
  {
   "cell_type": "code",
   "execution_count": null,
   "metadata": {},
   "outputs": [],
   "source": [
    "# Introducir respuesta en esta celda. Solo se corregirá esta celda."
   ]
  },
  {
   "cell_type": "markdown",
   "metadata": {},
   "source": [
    "# 3. El ejercicio macroso"
   ]
  },
  {
   "cell_type": "markdown",
   "metadata": {},
   "source": [
    "a. Crear un objeto `class` Simple\n",
    "   - Definir una clase llamada `Mercado`.\n",
    "   - Agregar un método constructor `__init__()` que inicialice dos atributos: `funcion_oferta` y `funcion_demanda`. Estos deben estar inicialmente configurados a `None` para que puedan ser establecidos más tarde.\n",
    "   - Instanciar la clase y verificar que los atributos están inicializados a `None`. Para instanciar, por ejemplo, puede usar el siguiente código\n",
    "        ```python\n",
    "        mercado = Mercado()\n",
    "        ```\n",
    "   - ¿Qué valores muestran la aplicación de `funcion_oferta` y `funcion_demanda`?"
   ]
  },
  {
   "cell_type": "code",
   "execution_count": null,
   "metadata": {},
   "outputs": [],
   "source": [
    "# Introducir respuesta en esta celda. Solo se corregirá esta celda."
   ]
  },
  {
   "cell_type": "markdown",
   "metadata": {},
   "source": [
    "b. Definición de Funciones de Oferta y Demanda que sirvan de métodos para el class `Mercado`\n",
    "\n",
    "- Agregar dos métodos a la clase mercado (`establecer_oferta()` y `establecer_demanda()`). Cada método deberá aceptar una función como parámetro y asignarla al atributo correspondiente.\n",
    "- Instancia la clase y utiliza funciones lambda para definir para simular el comportamiento de oferta y demanda. Por ejemplo, podemos suponer para la oferta que el precio aumenta a medida que aumenta la cantidad ofrecida. Una función simple podría ser `P = 2Q + 0.5`, donde `P` es el precio y `Q` es la cantidad. Para la demanda, el precio podría disminuir a medida que aumenta la cantidad demandada. Una función representativa podría ser `P = 20 - 1.5Q`.\n",
    "- ¿Cuáles son los precios que se obtienen al ejecutar las funciones `mercado.funcion_oferta(10)` y `mercado.funcion_demanda(10)`?\n"
   ]
  },
  {
   "cell_type": "code",
   "execution_count": null,
   "metadata": {},
   "outputs": [],
   "source": [
    "# Introducir respuesta en esta celda. Solo se corregirá esta celda."
   ]
  },
  {
   "cell_type": "markdown",
   "metadata": {},
   "source": [
    "c. Calcular el Precio y Cantidad de Equilibrio\n",
    "\n",
    "- Implementar un método `calcular_equilibrio()` que utilice un enfoque iterativo para encontrar el punto donde la oferta es igual a la demanda. Este método debe incrementar la cantidad (`Q`) gradualmente hasta que el precio de la oferta sea igual o superior al precio de la demanda. Un contador (pista: `+=1`) será útil.\n",
    "- Instancia la clase, utiliza las funciones lambda del ejercicio anterior y calcule el punto de equilibrio. Imprima la cantidad y el precio de equilibrio"
   ]
  },
  {
   "cell_type": "code",
   "execution_count": null,
   "metadata": {},
   "outputs": [],
   "source": [
    "# Introducir respuesta en esta celda. Solo se corregirá esta celda."
   ]
  }
 ],
 "metadata": {
  "hide_input": false,
  "kernelspec": {
   "display_name": "base",
   "language": "python",
   "name": "python3"
  },
  "language_info": {
   "codemirror_mode": {
    "name": "ipython",
    "version": 3
   },
   "file_extension": ".py",
   "mimetype": "text/x-python",
   "name": "python",
   "nbconvert_exporter": "python",
   "pygments_lexer": "ipython3",
   "version": "3.11.7"
  },
  "toc": {
   "base_numbering": 1,
   "nav_menu": {},
   "number_sections": true,
   "sideBar": true,
   "skip_h1_title": false,
   "title_cell": "Table of Contents",
   "title_sidebar": "Contents",
   "toc_cell": false,
   "toc_position": {},
   "toc_section_display": true,
   "toc_window_display": false
  }
 },
 "nbformat": 4,
 "nbformat_minor": 4
}
