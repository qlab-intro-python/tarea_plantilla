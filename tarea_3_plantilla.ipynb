{
 "cells": [
  {
   "cell_type": "markdown",
   "metadata": {},
   "source": [
    "# **Tarea Nº 3**\n",
    "Scope: If, Loops, Functions"
   ]
  },
  {
   "cell_type": "markdown",
   "metadata": {},
   "source": [
    "Curso:          Fundamentos de Programación en Python para Macroeconomía y Finanzas     \n",
    "Profesor:       Victor Fuentes Campos     "
   ]
  },
  {
   "cell_type": "markdown",
   "metadata": {},
   "source": [
    "- Fecha y hora de entrega: Miércoles 10 de enero, 11:59am\n",
    "- Agregue los nombres de las personas con las que discutió esta tarea: ____ Armando Paredes ______\n",
    "- Envíe su tarea haciendo el `push` de su código a su repo en GitHub Classroom: "
   ]
  },
  {
   "cell_type": "markdown",
   "metadata": {},
   "source": [
    "As of 2022 Q2, there are almost 3.5 million Andriod apps on Google Play and 1.6 million iOS apps on the App Store, and counting. Giving the digital revolution, there is an increase interest in investment opportunities in this sector\n",
    "\n",
    "<img src=\"popular_app_stores.png\" max-width=\"300\">\n",
    "\n",
    "Under this context, you will assess a financial committee interested in investing in software development. The goal is to determine the kinds of apps that are likely to attract more users because the number of people using our apps affect our revenue. For this purpose, you will access to data from Google Play and App Store.\n",
    "\n",
    "- Google Play: you can dowload the dataset containing approximately 11k Android apps from [this link](https://dq-content.s3.amazonaws.com/350/googleplaystore.csv). It was collected in August 2018\n",
    "- App Store: you can dowload the dataset containing roughly 7k iOS apps from [this link](https://dq-content.s3.amazonaws.com/350/AppleStore.csv). It was collected in July 2017"
   ]
  },
  {
   "cell_type": "markdown",
   "metadata": {},
   "source": [
    "## Exploring data"
   ]
  },
  {
   "cell_type": "markdown",
   "metadata": {},
   "source": [
    "1. Open the two datasets we mentioned above, and save both as lists of lists"
   ]
  },
  {
   "cell_type": "code",
   "execution_count": null,
   "metadata": {},
   "outputs": [],
   "source": [
    "# Solution"
   ]
  },
  {
   "cell_type": "markdown",
   "metadata": {},
   "source": [
    "2. Print the first few rows of each dataset and find the number of rows and columns of each dataset"
   ]
  },
  {
   "cell_type": "code",
   "execution_count": null,
   "metadata": {},
   "outputs": [],
   "source": [
    "# Solution"
   ]
  },
  {
   "cell_type": "markdown",
   "metadata": {},
   "source": [
    "For more info about the columns in the App Store dataset, visit [this link](https://www.kaggle.com/datasets/ramamet4/app-store-apple-data-set-10k-apps?select=AppleStore.csv)"
   ]
  },
  {
   "cell_type": "markdown",
   "metadata": {},
   "source": [
    "## Preparing data"
   ]
  },
  {
   "cell_type": "markdown",
   "metadata": {},
   "source": [
    "3. As noted before in the [discussion forum](https://www.kaggle.com/datasets/lava18/google-play-store-apps/discussion/66015), there is an error in the Google Play dataset. Please, remove the entry 10472 and explain shortly why"
   ]
  },
  {
   "cell_type": "code",
   "execution_count": null,
   "metadata": {},
   "outputs": [],
   "source": [
    "# Solution"
   ]
  },
  {
   "cell_type": "markdown",
   "metadata": {},
   "source": [
    "4. Count the number of duplicates in the Google Play dataset. You must build a function to loop through the Google Play dataset"
   ]
  },
  {
   "cell_type": "code",
   "execution_count": null,
   "metadata": {},
   "outputs": [],
   "source": [
    "# Solution"
   ]
  },
  {
   "cell_type": "markdown",
   "metadata": {},
   "source": [
    "5. Remove duplicates ..."
   ]
  },
  {
   "cell_type": "markdown",
   "metadata": {},
   "source": [
    "5. a. Create a dictionary, where each dictionary key is a unique app name and the corresponding dictionary value is the highest number of reviews of that app\n"
   ]
  },
  {
   "cell_type": "code",
   "execution_count": null,
   "metadata": {},
   "outputs": [],
   "source": [
    "# Solution"
   ]
  },
  {
   "cell_type": "markdown",
   "metadata": {},
   "source": [
    "5. b. Use the information stored in the dictionary and create a new dataset, which will have only one entry per app (and for each app, we'll only select the entry with the highest number of reviews).\n"
   ]
  },
  {
   "cell_type": "code",
   "execution_count": null,
   "metadata": {},
   "outputs": [],
   "source": [
    "# Solution"
   ]
  },
  {
   "cell_type": "markdown",
   "metadata": {},
   "source": [
    "5. c. Explore the cleaned dataset, it should have 9,659 rows"
   ]
  },
  {
   "cell_type": "code",
   "execution_count": null,
   "metadata": {},
   "outputs": [],
   "source": [
    "# Solution"
   ]
  },
  {
   "cell_type": "markdown",
   "metadata": {},
   "source": [
    "6. Remove non-english apps from both Android and Apple datasets. You should write a function that takes a string, if there's more than three characters that fall outside the ASCII range (0 - 127), then the function should return False (identify the string as non-English), otherwise it should return True. Hint: use the [```ord()```  function](https://www.w3schools.com/python/ref_func_ord.asp)"
   ]
  },
  {
   "cell_type": "code",
   "execution_count": 13,
   "metadata": {},
   "outputs": [],
   "source": [
    "# For instance\n",
    "correct_english_name = \"Instachat 😜\"  # 1 character outside the ASCII range (😜)\n",
    "incorrect_english_name = \"爱奇艺PPS -《欢乐颂2》电视剧热播\" # 13 character outside the ASCII range (ie 播)"
   ]
  },
  {
   "cell_type": "code",
   "execution_count": 14,
   "metadata": {},
   "outputs": [
    {
     "name": "stdout",
     "output_type": "stream",
     "text": [
      "73\n",
      "116\n",
      "45\n",
      "128540\n",
      "29233\n"
     ]
    }
   ],
   "source": [
    "print(ord(\"I\"))\n",
    "print(ord(\"t\"))\n",
    "print(ord(\"-\"))\n",
    "print(ord(\"😜\"))\n",
    "print(ord(\"爱\"))"
   ]
  },
  {
   "cell_type": "code",
   "execution_count": null,
   "metadata": {},
   "outputs": [],
   "source": [
    "# Solution"
   ]
  },
  {
   "cell_type": "markdown",
   "metadata": {},
   "source": [
    "7. Loop through each dataset to isolate the free apps in separate lists. Make sure you identify the columns describing the app price correctly. Be careful, prices come up as strings ('0', $0.99, $2.99, etc.), so make sure you're not checking an integer or a float in your conditional statements. How many apps are free?\n"
   ]
  },
  {
   "cell_type": "code",
   "execution_count": null,
   "metadata": {},
   "outputs": [],
   "source": [
    "# Solution"
   ]
  },
  {
   "cell_type": "markdown",
   "metadata": {},
   "source": [
    "## Exploring data"
   ]
  },
  {
   "cell_type": "markdown",
   "metadata": {},
   "source": [
    " 8. Build a frequency table for the ```prime_genre``` column of the App Store dataset, and the ```Genres``` and ```Category``` columns of the Google Play data set. What are the most common genres for each market? You must develop and deploy your function"
   ]
  },
  {
   "cell_type": "code",
   "execution_count": null,
   "metadata": {},
   "outputs": [],
   "source": [
    "# Solution"
   ]
  },
  {
   "cell_type": "markdown",
   "metadata": {},
   "source": [
    " 9. One way to find out what genres are the most popular (have the most users) is to calculate the average number of installs for each app genre. Based on that exercise, give one app profile recommendation for Google Play.\n",
    " \n",
    "    For the Google Play data set, we can find the required information in the ```Installs``` column. Then, compute the average number of installs by genre. Hint 1: consider only unique values of the ```Category``` column. Hint 2: If an app has, for instance, ```1,000,000+``` assume it as ```1,000,000``` installs. Hint 3: Be careful with a skewed distribution"
   ]
  },
  {
   "cell_type": "code",
   "execution_count": null,
   "metadata": {},
   "outputs": [],
   "source": [
    "# Solution"
   ]
  },
  {
   "cell_type": "markdown",
   "metadata": {},
   "source": [
    " 10. The App Store dataset doesn´t have the ```installs``` information. Then, you will construct the average rating from the ```rating_count_tot``` column per genre. Based on that exercise, give one app profile recommendation for the App Store"
   ]
  },
  {
   "cell_type": "code",
   "execution_count": null,
   "metadata": {},
   "outputs": [],
   "source": [
    "# Solution"
   ]
  }
 ],
 "metadata": {
  "hide_input": false,
  "kernelspec": {
   "display_name": "Python 3 (ipykernel)",
   "language": "python",
   "name": "python3"
  },
  "language_info": {
   "codemirror_mode": {
    "name": "ipython",
    "version": 3
   },
   "file_extension": ".py",
   "mimetype": "text/x-python",
   "name": "python",
   "nbconvert_exporter": "python",
   "pygments_lexer": "ipython3",
   "version": "3.11.7"
  },
  "toc": {
   "base_numbering": 1,
   "nav_menu": {},
   "number_sections": true,
   "sideBar": true,
   "skip_h1_title": false,
   "title_cell": "Table of Contents",
   "title_sidebar": "Contents",
   "toc_cell": false,
   "toc_position": {},
   "toc_section_display": true,
   "toc_window_display": false
  }
 },
 "nbformat": 4,
 "nbformat_minor": 4
}
